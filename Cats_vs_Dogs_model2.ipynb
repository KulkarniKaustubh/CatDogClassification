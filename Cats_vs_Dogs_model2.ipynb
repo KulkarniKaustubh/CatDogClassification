{
  "nbformat": 4,
  "nbformat_minor": 0,
  "metadata": {
    "kernelspec": {
      "display_name": "Python 3",
      "language": "python",
      "name": "python3"
    },
    "language_info": {
      "codemirror_mode": {
        "name": "ipython",
        "version": 3
      },
      "file_extension": ".py",
      "mimetype": "text/x-python",
      "name": "python",
      "nbconvert_exporter": "python",
      "pygments_lexer": "ipython3",
      "version": "3.8.2"
    },
    "colab": {
      "name": "Cats_vs_Dogs.ipynb",
      "provenance": [],
      "collapsed_sections": []
    },
    "accelerator": "GPU"
  },
  "cells": [
    {
      "cell_type": "code",
      "metadata": {
        "id": "Q-A-ALLBBIH4",
        "colab_type": "code",
        "colab": {
          "base_uri": "https://localhost:8080/",
          "height": 119
        },
        "outputId": "031f728d-cebb-4353-ec7c-139d31f995cc"
      },
      "source": [
        "! git clone https://github.com/KulkarniKaustubh/CatDogClassification\n",
        "! ls"
      ],
      "execution_count": 2,
      "outputs": [
        {
          "output_type": "stream",
          "text": [
            "Cloning into 'CatDogClassification'...\n",
            "remote: Enumerating objects: 3025, done.\u001b[K\n",
            "remote: Total 3025 (delta 0), reused 0 (delta 0), pack-reused 3025\u001b[K\n",
            "Receiving objects: 100% (3025/3025), 65.91 MiB | 11.81 MiB/s, done.\n",
            "Resolving deltas: 100% (3/3), done.\n",
            "CatDogClassification  sample_data\n"
          ],
          "name": "stdout"
        }
      ]
    },
    {
      "cell_type": "code",
      "metadata": {
        "id": "VHkZQ5HA_nIX",
        "colab_type": "code",
        "colab": {}
      },
      "source": [
        "import os\n",
        "import matplotlib.pyplot as plt\n",
        "import numpy as np\n",
        "from random import shuffle\n",
        "import tensorflow as tf\n",
        "from tensorflow import keras as K\n",
        "from tensorflow.keras.layers import Conv2D, Dense, MaxPooling2D, Flatten, BatchNormalization, Dropout, Activation\n",
        "from tensorflow.keras.preprocessing.image import ImageDataGenerator\n",
        "\n",
        "# all directories\n",
        "TRAIN_DIR = 'CatDogClassification/extracted/cats_and_dogs_filtered/train'\n",
        "VAL_DIR = 'CatDogClassification/extracted/cats_and_dogs_filtered/validation'\n",
        "TRAIN_DIR_CATS = 'CatDogClassification/extracted/cats_and_dogs_filtered/train/cats'\n",
        "TRAIN_DIR_DOGS = 'CatDogClassification/extracted/cats_and_dogs_filtered/train/dogs'\n",
        "VAL_DIR_CATS = 'CatDogClassification/extracted/cats_and_dogs_filtered/validation/cats'\n",
        "VAL_DIR_DOGS = 'CatDogClassification/extracted/cats_and_dogs_filtered/validation/dogs'\n",
        "\n",
        "# getting images squared\n",
        "imageSize = 200\n",
        "\n",
        "# alpha\n",
        "lr = 0.001\n",
        "\n",
        "# momentum\n",
        "beta_1 = 0.9\n",
        "\n",
        "# mini-batch size\n",
        "BATCH_SIZE = 32\n",
        "\n",
        "# number of epochs\n",
        "epochs = 50\n",
        "\n",
        "# total training data and val data\n",
        "totalTrain = len(os.listdir(TRAIN_DIR_CATS))\n",
        "totalTrain += len(os.listdir(TRAIN_DIR_DOGS))\n",
        "\n",
        "totalVal = len(os.listdir(VAL_DIR_CATS))\n",
        "totalVal += len(os.listdir(VAL_DIR_DOGS))"
      ],
      "execution_count": 3,
      "outputs": []
    },
    {
      "cell_type": "code",
      "metadata": {
        "id": "wG7ipYbd_nIe",
        "colab_type": "code",
        "colab": {}
      },
      "source": [
        "# for data augmentation since we have a small training set\n",
        "trainImageGenerator = ImageDataGenerator(\n",
        "                                        rescale = 1./255.,  # normalization\n",
        "                                        rotation_range = 40,  # range of rotation\n",
        "                                        width_shift_range = 0.2,\n",
        "                                        height_shift_range = 0.2,\n",
        "                                        shear_range = 0.2,\n",
        "                                        zoom_range = 0.2,\n",
        "                                        horizontal_flip = True,  # fliiping images horizontally\n",
        "                                        fill_mode = 'nearest'  # any pixel gaps will be filled with the 'nearest' pizel\n",
        "                                        )\n",
        "\n",
        "validationImageGenerator = ImageDataGenerator(\n",
        "                                        rescale = 1./255.\n",
        "                                        )"
      ],
      "execution_count": 89,
      "outputs": []
    },
    {
      "cell_type": "code",
      "metadata": {
        "id": "KLtAScgR_nIi",
        "colab_type": "code",
        "colab": {
          "base_uri": "https://localhost:8080/",
          "height": 51
        },
        "outputId": "e47d2710-afd0-4126-f19e-02dbf2d10e1d"
      },
      "source": [
        "# declaring training data\n",
        "trainingData = trainImageGenerator.flow_from_directory(\n",
        "                                        batch_size = BATCH_SIZE,\n",
        "                                        directory = TRAIN_DIR,\n",
        "                                        shuffle = True,\n",
        "                                        target_size = (imageSize, imageSize),\n",
        "                                        class_mode = 'binary'   # only cats or dogs, binary classification\n",
        "                                        )\n",
        "\n",
        "validationData = validationImageGenerator.flow_from_directory(\n",
        "                                        batch_size = BATCH_SIZE,\n",
        "                                        directory = VAL_DIR,\n",
        "                                        shuffle = False,\n",
        "                                        target_size = (imageSize, imageSize),\n",
        "                                        class_mode = 'binary'\n",
        "                                        )"
      ],
      "execution_count": 90,
      "outputs": [
        {
          "output_type": "stream",
          "text": [
            "Found 2000 images belonging to 2 classes.\n",
            "Found 1000 images belonging to 2 classes.\n"
          ],
          "name": "stdout"
        }
      ]
    },
    {
      "cell_type": "code",
      "metadata": {
        "id": "rPFkeDFU_nIo",
        "colab_type": "code",
        "colab": {
          "base_uri": "https://localhost:8080/",
          "height": 34
        },
        "outputId": "fc1c753b-9161-4020-c424-7841649e86b0"
      },
      "source": [
        "# printing classes\n",
        "print(trainingData.class_indices)"
      ],
      "execution_count": 91,
      "outputs": [
        {
          "output_type": "stream",
          "text": [
            "{'cats': 0, 'dogs': 1}\n"
          ],
          "name": "stdout"
        }
      ]
    },
    {
      "cell_type": "code",
      "metadata": {
        "id": "LwxVRJK7_nIt",
        "colab_type": "code",
        "colab": {}
      },
      "source": [
        "# clearing previous models\n",
        "K.backend.clear_session()\n",
        "\n",
        "# defining the model\n",
        "model = K.models.Sequential([\n",
        "    Conv2D(filters = 16, kernel_size = (3, 3), input_shape = (imageSize, imageSize, 3)), # 3 for RGB\n",
        "    BatchNormalization(),\n",
        "    Activation('relu'),\n",
        "    MaxPooling2D(pool_size = (2, 2)),\n",
        "    \n",
        "    Conv2D(filters = 32, kernel_size = (3, 3)),\n",
        "    BatchNormalization(),\n",
        "    Activation('relu'),\n",
        "    MaxPooling2D(pool_size = (2, 2)),\n",
        "    \n",
        "    Conv2D(filters = 64, kernel_size = (3, 3)),\n",
        "    BatchNormalization(),\n",
        "    Activation('relu'),\n",
        "    MaxPooling2D(pool_size = (2, 2)),\n",
        "    \n",
        "    Conv2D(filters = 128, kernel_size = (3, 3)),\n",
        "    BatchNormalization(),\n",
        "    Activation('relu'),\n",
        "    MaxPooling2D(pool_size = (2, 2)),\n",
        "\n",
        "    Conv2D(filters = 128, kernel_size = (3, 3)),\n",
        "    BatchNormalization(),\n",
        "    Activation('relu'),\n",
        "    MaxPooling2D(pool_size = (2, 2)),\n",
        "    \n",
        "#     Conv2D(8, (1, 1)),\n",
        "#     BatchNormalization(),\n",
        "    \n",
        "    Flatten(),\n",
        "    \n",
        "    Dense(units = 512,\n",
        "          activation = 'relu',\n",
        "          kernel_regularizer = K.regularizers.l1_l2(l1=1e-5, l2=1e-4),\n",
        "          activity_regularizer = K.regularizers.l2(1e-5)\n",
        "          ),\n",
        "    BatchNormalization(),\n",
        "    Dropout(rate = 0.5),        # regularization to reduce variance\n",
        "\n",
        "    Dense(units = 512,\n",
        "          activation = 'relu',\n",
        "          kernel_regularizer = K.regularizers.l1_l2(l1=1e-5, l2=1e-4),\n",
        "          activity_regularizer = K.regularizers.l2(1e-5)\n",
        "          ),\n",
        "    BatchNormalization(),\n",
        "    Dropout(rate = 0.5),\n",
        "    \n",
        "    Dense(units = 2, activation = 'softmax')\n",
        "    \n",
        "], name = 'cats-vs-dogs')"
      ],
      "execution_count": 113,
      "outputs": []
    },
    {
      "cell_type": "code",
      "metadata": {
        "id": "Iuv06W9w_nIx",
        "colab_type": "code",
        "colab": {}
      },
      "source": [
        "# compiling the model\n",
        "opt = K.optimizers.Adam(lr = lr, beta_1 = beta_1, beta_2 = 0.999, decay = 1e-6)\n",
        "model.compile (\n",
        "    optimizer = opt,\n",
        "    loss = 'sparse_categorical_crossentropy',\n",
        "    metrics = ['accuracy']\n",
        "    )"
      ],
      "execution_count": 117,
      "outputs": []
    },
    {
      "cell_type": "code",
      "metadata": {
        "id": "I5mNOH9O_nI2",
        "colab_type": "code",
        "colab": {
          "base_uri": "https://localhost:8080/",
          "height": 1000
        },
        "outputId": "104d4761-3103-43ec-90cd-e46c6cc22e54"
      },
      "source": [
        "# summary of the model\n",
        "model.summary()"
      ],
      "execution_count": 118,
      "outputs": [
        {
          "output_type": "stream",
          "text": [
            "Model: \"cats-vs-dogs\"\n",
            "_________________________________________________________________\n",
            "Layer (type)                 Output Shape              Param #   \n",
            "=================================================================\n",
            "conv2d (Conv2D)              (None, 198, 198, 16)      448       \n",
            "_________________________________________________________________\n",
            "batch_normalization (BatchNo (None, 198, 198, 16)      64        \n",
            "_________________________________________________________________\n",
            "activation (Activation)      (None, 198, 198, 16)      0         \n",
            "_________________________________________________________________\n",
            "max_pooling2d (MaxPooling2D) (None, 99, 99, 16)        0         \n",
            "_________________________________________________________________\n",
            "conv2d_1 (Conv2D)            (None, 97, 97, 32)        4640      \n",
            "_________________________________________________________________\n",
            "batch_normalization_1 (Batch (None, 97, 97, 32)        128       \n",
            "_________________________________________________________________\n",
            "activation_1 (Activation)    (None, 97, 97, 32)        0         \n",
            "_________________________________________________________________\n",
            "max_pooling2d_1 (MaxPooling2 (None, 48, 48, 32)        0         \n",
            "_________________________________________________________________\n",
            "conv2d_2 (Conv2D)            (None, 46, 46, 64)        18496     \n",
            "_________________________________________________________________\n",
            "batch_normalization_2 (Batch (None, 46, 46, 64)        256       \n",
            "_________________________________________________________________\n",
            "activation_2 (Activation)    (None, 46, 46, 64)        0         \n",
            "_________________________________________________________________\n",
            "max_pooling2d_2 (MaxPooling2 (None, 23, 23, 64)        0         \n",
            "_________________________________________________________________\n",
            "conv2d_3 (Conv2D)            (None, 21, 21, 128)       73856     \n",
            "_________________________________________________________________\n",
            "batch_normalization_3 (Batch (None, 21, 21, 128)       512       \n",
            "_________________________________________________________________\n",
            "activation_3 (Activation)    (None, 21, 21, 128)       0         \n",
            "_________________________________________________________________\n",
            "max_pooling2d_3 (MaxPooling2 (None, 10, 10, 128)       0         \n",
            "_________________________________________________________________\n",
            "conv2d_4 (Conv2D)            (None, 8, 8, 128)         147584    \n",
            "_________________________________________________________________\n",
            "batch_normalization_4 (Batch (None, 8, 8, 128)         512       \n",
            "_________________________________________________________________\n",
            "activation_4 (Activation)    (None, 8, 8, 128)         0         \n",
            "_________________________________________________________________\n",
            "max_pooling2d_4 (MaxPooling2 (None, 4, 4, 128)         0         \n",
            "_________________________________________________________________\n",
            "flatten (Flatten)            (None, 2048)              0         \n",
            "_________________________________________________________________\n",
            "dense (Dense)                (None, 512)               1049088   \n",
            "_________________________________________________________________\n",
            "batch_normalization_5 (Batch (None, 512)               2048      \n",
            "_________________________________________________________________\n",
            "dropout (Dropout)            (None, 512)               0         \n",
            "_________________________________________________________________\n",
            "dense_1 (Dense)              (None, 512)               262656    \n",
            "_________________________________________________________________\n",
            "batch_normalization_6 (Batch (None, 512)               2048      \n",
            "_________________________________________________________________\n",
            "dropout_1 (Dropout)          (None, 512)               0         \n",
            "_________________________________________________________________\n",
            "dense_2 (Dense)              (None, 2)                 1026      \n",
            "=================================================================\n",
            "Total params: 1,563,362\n",
            "Trainable params: 1,560,578\n",
            "Non-trainable params: 2,784\n",
            "_________________________________________________________________\n"
          ],
          "name": "stdout"
        }
      ]
    },
    {
      "cell_type": "code",
      "metadata": {
        "id": "9EoWIWKr_nI8",
        "colab_type": "code",
        "colab": {
          "base_uri": "https://localhost:8080/",
          "height": 1000
        },
        "outputId": "98d18e3f-c1c6-4f94-bcdb-624194ad210d"
      },
      "source": [
        "# fit is overloaded with fit_generator in TensorFlow 2.2+, hence, using fit\n",
        "history = model.fit(\n",
        "    trainingData,\n",
        "    steps_per_epoch = totalTrain // BATCH_SIZE,  # steps per epoch is defined as total by batch size\n",
        "    epochs = epochs,\n",
        "    validation_data = validationData,\n",
        "    validation_steps = totalVal // BATCH_SIZE\n",
        "    )"
      ],
      "execution_count": 119,
      "outputs": [
        {
          "output_type": "stream",
          "text": [
            "Epoch 1/50\n",
            "62/62 [==============================] - 29s 461ms/step - loss: 1.4335 - accuracy: 0.5457 - val_loss: 1.7646 - val_accuracy: 0.5040\n",
            "Epoch 2/50\n",
            "62/62 [==============================] - 28s 456ms/step - loss: 1.2894 - accuracy: 0.5691 - val_loss: 1.2483 - val_accuracy: 0.5040\n",
            "Epoch 3/50\n",
            "62/62 [==============================] - 28s 457ms/step - loss: 1.2206 - accuracy: 0.5803 - val_loss: 1.2564 - val_accuracy: 0.5040\n",
            "Epoch 4/50\n",
            "62/62 [==============================] - 28s 455ms/step - loss: 1.1219 - accuracy: 0.6052 - val_loss: 1.0677 - val_accuracy: 0.5817\n",
            "Epoch 5/50\n",
            "62/62 [==============================] - 28s 457ms/step - loss: 1.0726 - accuracy: 0.6418 - val_loss: 1.0762 - val_accuracy: 0.5403\n",
            "Epoch 6/50\n",
            "62/62 [==============================] - 28s 454ms/step - loss: 1.0509 - accuracy: 0.6535 - val_loss: 1.0312 - val_accuracy: 0.6139\n",
            "Epoch 7/50\n",
            "62/62 [==============================] - 28s 457ms/step - loss: 0.9995 - accuracy: 0.6773 - val_loss: 0.9381 - val_accuracy: 0.7077\n",
            "Epoch 8/50\n",
            "62/62 [==============================] - 28s 455ms/step - loss: 0.9986 - accuracy: 0.6672 - val_loss: 0.9882 - val_accuracy: 0.6714\n",
            "Epoch 9/50\n",
            "62/62 [==============================] - 28s 456ms/step - loss: 0.9649 - accuracy: 0.6860 - val_loss: 0.9452 - val_accuracy: 0.6623\n",
            "Epoch 10/50\n",
            "62/62 [==============================] - 28s 455ms/step - loss: 0.9540 - accuracy: 0.6916 - val_loss: 0.9403 - val_accuracy: 0.6794\n",
            "Epoch 11/50\n",
            "62/62 [==============================] - 28s 453ms/step - loss: 0.9411 - accuracy: 0.7083 - val_loss: 0.8794 - val_accuracy: 0.7329\n",
            "Epoch 12/50\n",
            "62/62 [==============================] - 28s 456ms/step - loss: 0.9243 - accuracy: 0.7170 - val_loss: 0.8610 - val_accuracy: 0.7440\n",
            "Epoch 13/50\n",
            "62/62 [==============================] - 28s 452ms/step - loss: 0.8914 - accuracy: 0.7337 - val_loss: 0.9118 - val_accuracy: 0.7107\n",
            "Epoch 14/50\n",
            "62/62 [==============================] - 28s 451ms/step - loss: 0.8889 - accuracy: 0.7378 - val_loss: 1.3888 - val_accuracy: 0.5806\n",
            "Epoch 15/50\n",
            "62/62 [==============================] - 28s 453ms/step - loss: 0.8663 - accuracy: 0.7525 - val_loss: 0.8469 - val_accuracy: 0.7460\n",
            "Epoch 16/50\n",
            "62/62 [==============================] - 28s 455ms/step - loss: 0.8611 - accuracy: 0.7459 - val_loss: 1.1045 - val_accuracy: 0.6331\n",
            "Epoch 17/50\n",
            "62/62 [==============================] - 28s 455ms/step - loss: 0.8424 - accuracy: 0.7480 - val_loss: 0.9687 - val_accuracy: 0.6956\n",
            "Epoch 18/50\n",
            "62/62 [==============================] - 28s 456ms/step - loss: 0.8249 - accuracy: 0.7571 - val_loss: 0.7901 - val_accuracy: 0.7722\n",
            "Epoch 19/50\n",
            "62/62 [==============================] - 28s 456ms/step - loss: 0.8265 - accuracy: 0.7424 - val_loss: 0.8896 - val_accuracy: 0.6986\n",
            "Epoch 20/50\n",
            "62/62 [==============================] - 28s 450ms/step - loss: 0.8050 - accuracy: 0.7642 - val_loss: 0.8354 - val_accuracy: 0.7379\n",
            "Epoch 21/50\n",
            "62/62 [==============================] - 28s 450ms/step - loss: 0.7954 - accuracy: 0.7627 - val_loss: 0.9115 - val_accuracy: 0.6784\n",
            "Epoch 22/50\n",
            "62/62 [==============================] - 28s 451ms/step - loss: 0.8041 - accuracy: 0.7627 - val_loss: 0.8273 - val_accuracy: 0.7601\n",
            "Epoch 23/50\n",
            "62/62 [==============================] - 28s 451ms/step - loss: 0.7778 - accuracy: 0.7749 - val_loss: 0.7245 - val_accuracy: 0.7944\n",
            "Epoch 24/50\n",
            "62/62 [==============================] - 28s 451ms/step - loss: 0.7610 - accuracy: 0.7820 - val_loss: 0.7752 - val_accuracy: 0.7621\n",
            "Epoch 25/50\n",
            "62/62 [==============================] - 28s 451ms/step - loss: 0.7437 - accuracy: 0.7876 - val_loss: 0.7273 - val_accuracy: 0.7752\n",
            "Epoch 26/50\n",
            "62/62 [==============================] - 28s 453ms/step - loss: 0.7255 - accuracy: 0.7861 - val_loss: 0.7325 - val_accuracy: 0.7863\n",
            "Epoch 27/50\n",
            "62/62 [==============================] - 28s 452ms/step - loss: 0.7237 - accuracy: 0.7734 - val_loss: 0.6515 - val_accuracy: 0.8236\n",
            "Epoch 28/50\n",
            "62/62 [==============================] - 28s 450ms/step - loss: 0.6932 - accuracy: 0.7937 - val_loss: 1.0062 - val_accuracy: 0.6653\n",
            "Epoch 29/50\n",
            "62/62 [==============================] - 28s 450ms/step - loss: 0.6842 - accuracy: 0.8013 - val_loss: 0.6646 - val_accuracy: 0.8125\n",
            "Epoch 30/50\n",
            "62/62 [==============================] - 28s 447ms/step - loss: 0.7074 - accuracy: 0.7769 - val_loss: 1.0370 - val_accuracy: 0.6583\n",
            "Epoch 31/50\n",
            "62/62 [==============================] - 28s 449ms/step - loss: 0.6751 - accuracy: 0.8059 - val_loss: 0.8630 - val_accuracy: 0.6915\n",
            "Epoch 32/50\n",
            "62/62 [==============================] - 28s 448ms/step - loss: 0.6491 - accuracy: 0.8115 - val_loss: 0.7842 - val_accuracy: 0.7308\n",
            "Epoch 33/50\n",
            "62/62 [==============================] - 28s 444ms/step - loss: 0.6545 - accuracy: 0.8023 - val_loss: 1.2301 - val_accuracy: 0.6381\n",
            "Epoch 34/50\n",
            "62/62 [==============================] - 28s 447ms/step - loss: 0.6624 - accuracy: 0.7927 - val_loss: 0.6287 - val_accuracy: 0.8044\n",
            "Epoch 35/50\n",
            "62/62 [==============================] - 28s 447ms/step - loss: 0.6493 - accuracy: 0.8069 - val_loss: 0.5699 - val_accuracy: 0.8508\n",
            "Epoch 36/50\n",
            "62/62 [==============================] - 28s 448ms/step - loss: 0.6081 - accuracy: 0.8222 - val_loss: 0.8030 - val_accuracy: 0.7268\n",
            "Epoch 37/50\n",
            "62/62 [==============================] - 28s 451ms/step - loss: 0.6051 - accuracy: 0.8237 - val_loss: 0.7460 - val_accuracy: 0.7339\n",
            "Epoch 38/50\n",
            "62/62 [==============================] - 28s 448ms/step - loss: 0.6312 - accuracy: 0.8110 - val_loss: 0.7327 - val_accuracy: 0.7298\n",
            "Epoch 39/50\n",
            "62/62 [==============================] - 28s 447ms/step - loss: 0.5905 - accuracy: 0.8379 - val_loss: 0.6948 - val_accuracy: 0.7974\n",
            "Epoch 40/50\n",
            "62/62 [==============================] - 28s 450ms/step - loss: 0.5935 - accuracy: 0.8206 - val_loss: 0.6341 - val_accuracy: 0.7923\n",
            "Epoch 41/50\n",
            "62/62 [==============================] - 28s 449ms/step - loss: 0.5976 - accuracy: 0.8115 - val_loss: 0.5842 - val_accuracy: 0.8206\n",
            "Epoch 42/50\n",
            "62/62 [==============================] - 28s 449ms/step - loss: 0.5958 - accuracy: 0.8272 - val_loss: 0.6124 - val_accuracy: 0.8155\n",
            "Epoch 43/50\n",
            "62/62 [==============================] - 28s 459ms/step - loss: 0.5709 - accuracy: 0.8262 - val_loss: 0.6219 - val_accuracy: 0.8306\n",
            "Epoch 44/50\n",
            "62/62 [==============================] - 28s 452ms/step - loss: 0.5488 - accuracy: 0.8516 - val_loss: 1.1491 - val_accuracy: 0.6562\n",
            "Epoch 45/50\n",
            "62/62 [==============================] - 28s 450ms/step - loss: 0.5584 - accuracy: 0.8364 - val_loss: 0.6505 - val_accuracy: 0.7923\n",
            "Epoch 46/50\n",
            "62/62 [==============================] - 28s 449ms/step - loss: 0.5374 - accuracy: 0.8460 - val_loss: 1.0196 - val_accuracy: 0.7117\n",
            "Epoch 47/50\n",
            "62/62 [==============================] - 28s 451ms/step - loss: 0.5655 - accuracy: 0.8328 - val_loss: 1.4220 - val_accuracy: 0.5978\n",
            "Epoch 48/50\n",
            "62/62 [==============================] - 28s 450ms/step - loss: 0.5583 - accuracy: 0.8323 - val_loss: 1.3351 - val_accuracy: 0.6300\n",
            "Epoch 49/50\n",
            "62/62 [==============================] - 28s 453ms/step - loss: 0.5270 - accuracy: 0.8471 - val_loss: 0.5919 - val_accuracy: 0.8095\n",
            "Epoch 50/50\n",
            "62/62 [==============================] - 28s 453ms/step - loss: 0.5211 - accuracy: 0.8496 - val_loss: 0.5481 - val_accuracy: 0.8397\n"
          ],
          "name": "stdout"
        }
      ]
    },
    {
      "cell_type": "code",
      "metadata": {
        "id": "taqPKmgwXUQ4",
        "colab_type": "code",
        "colab": {
          "base_uri": "https://localhost:8080/",
          "height": 1000
        },
        "outputId": "fa341b13-4486-4725-ac07-95a275be1d43"
      },
      "source": [
        "acc = history.history['accuracy']\n",
        "loss = history.history['loss']\n",
        "epochs = range(len(acc))\n",
        "\n",
        "plt.plot(epochs, acc)\n",
        "plt.title('Training Accuracy')\n",
        "plt.figure()\n",
        "\n",
        "plt.plot(epochs, loss)\n",
        "plt.title('Training Loss')\n",
        "plt.figure()\n",
        "\n",
        "valAcc = history.history['val_accuracy']\n",
        "valLoss = history.history['val_loss']\n",
        "\n",
        "plt.plot(epochs, valAcc)\n",
        "plt.title('Validation Accuracy')\n",
        "plt.figure()\n",
        "\n",
        "plt.plot(epochs, valLoss)\n",
        "plt.title('Validation Loss')\n",
        "plt.figure()"
      ],
      "execution_count": 120,
      "outputs": [
        {
          "output_type": "execute_result",
          "data": {
            "text/plain": [
              "<Figure size 432x288 with 0 Axes>"
            ]
          },
          "metadata": {
            "tags": []
          },
          "execution_count": 120
        },
        {
          "output_type": "display_data",
          "data": {
            "image/png": "[encoded data removed]",
            "text/plain": [
              "<Figure size 432x288 with 1 Axes>"
            ]
          },
          "metadata": {
            "tags": [],
            "needs_background": "light"
          }
        },
        {
          "output_type": "display_data",
          "data": {
            "image/png": "[encoded data removed]",
            "text/plain": [
              "<Figure size 432x288 with 1 Axes>"
            ]
          },
          "metadata": {
            "tags": [],
            "needs_background": "light"
          }
        },
        {
          "output_type": "display_data",
          "data": {
            "image/png": "[encoded data removed]",
            "text/plain": [
              "<Figure size 432x288 with 1 Axes>"
            ]
          },
          "metadata": {
            "tags": [],
            "needs_background": "light"
          }
        },
        {
          "output_type": "display_data",
          "data": {
            "image/png": "[encoded data removed]",
            "text/plain": [
              "<Figure size 432x288 with 1 Axes>"
            ]
          },
          "metadata": {
            "tags": [],
            "needs_background": "light"
          }
        },
        {
          "output_type": "display_data",
          "data": {
            "text/plain": [
              "<Figure size 432x288 with 0 Axes>"
            ]
          },
          "metadata": {
            "tags": []
          }
        }
      ]
    },
    {
      "cell_type": "code",
      "metadata": {
        "id": "84_0-hff_nJB",
        "colab_type": "code",
        "colab": {
          "base_uri": "https://localhost:8080/",
          "height": 51
        },
        "outputId": "cc0692ad-8b81-4080-cd84-f8fdbeb5c378"
      },
      "source": [
        "model.evaluate(validationData, batch_size = BATCH_SIZE)"
      ],
      "execution_count": 121,
      "outputs": [
        {
          "output_type": "stream",
          "text": [
            "32/32 [==============================] - 4s 111ms/step - loss: 0.5516 - accuracy: 0.8390\n"
          ],
          "name": "stdout"
        },
        {
          "output_type": "execute_result",
          "data": {
            "text/plain": [
              "[0.5515832304954529, 0.8389999866485596]"
            ]
          },
          "metadata": {
            "tags": []
          },
          "execution_count": 121
        }
      ]
    },
    {
      "cell_type": "code",
      "metadata": {
        "id": "BjTRAfQo_nJF",
        "colab_type": "code",
        "colab": {
          "base_uri": "https://localhost:8080/",
          "height": 34
        },
        "outputId": "aba9645a-be71-4ebf-fd56-43b701c60190"
      },
      "source": [
        "# saving json format of model\n",
        "modelJSON = model.to_json()\n",
        "with open('cats_vs_dogs-model-2-regularized.json', 'w') as file:\n",
        "    file.write(modelJSON)\n",
        "    \n",
        "# saving weights of model\n",
        "model.save_weights(\"cats_vs_dogs_weights-model-2-regularized.h5\")\n",
        "\n",
        "#printing confirmation\n",
        "print(\"Saved model to disk\")"
      ],
      "execution_count": 122,
      "outputs": [
        {
          "output_type": "stream",
          "text": [
            "Saved model to disk\n"
          ],
          "name": "stdout"
        }
      ]
    },
    {
      "cell_type": "code",
      "metadata": {
        "id": "2gceRWVD_nJI",
        "colab_type": "code",
        "colab": {}
      },
      "source": [
        "# loading model\n",
        "jsonFile = open('cats_vs_dogs.json', 'r')\n",
        "loadedJSONModel = jsonFile.read()\n",
        "jsonFile.close()\n",
        "loadedModel = K.models.model_from_json(loadedJSONModel)\n",
        "\n",
        "# loading weights using this model\n",
        "loadedModel.load_weights('cats_vs_dogs_weights.h5')"
      ],
      "execution_count": null,
      "outputs": []
    },
    {
      "cell_type": "code",
      "metadata": {
        "id": "WsrLaIY5_nJM",
        "colab_type": "code",
        "colab": {
          "base_uri": "https://localhost:8080/",
          "height": 51
        },
        "outputId": "7906c0a3-4afd-496d-9764-2e31e0a19403"
      },
      "source": [
        "# compiling the loaded model\n",
        "loadedModel.compile(optimizer = 'adam', loss = 'sparse_categorical_crossentropy', metrics=['accuracy'])\n",
        "\n",
        "# evaluating the loaded model\n",
        "loadedModel.evaluate(validationData, batch_size = BATCH_SIZE)"
      ],
      "execution_count": 67,
      "outputs": [
        {
          "output_type": "stream",
          "text": [
            "32/32 [==============================] - 4s 121ms/step - loss: 0.5833 - accuracy: 0.7310\n"
          ],
          "name": "stdout"
        },
        {
          "output_type": "execute_result",
          "data": {
            "text/plain": [
              "[0.5832808613777161, 0.7310000061988831]"
            ]
          },
          "metadata": {
            "tags": []
          },
          "execution_count": 67
        }
      ]
    },
    {
      "cell_type": "code",
      "metadata": {
        "id": "3Qiaf4Kn_nJQ",
        "colab_type": "code",
        "colab": {}
      },
      "source": [
        ""
      ],
      "execution_count": null,
      "outputs": []
    }
  ]
}